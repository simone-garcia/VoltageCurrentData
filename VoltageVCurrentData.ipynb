{
 "cells": [
  {
   "cell_type": "code",
   "execution_count": 1,
   "id": "77dc4359",
   "metadata": {},
   "outputs": [],
   "source": [
    "# Dependencies\n",
    "import pandas as pd\n",
    "import matplotlib.pyplot as plt\n",
    "import numpy as np"
   ]
  },
  {
   "cell_type": "code",
   "execution_count": 2,
   "id": "cad9eb98",
   "metadata": {},
   "outputs": [],
   "source": [
    "#Filepath as variable\n",
    "\n",
    "dataset1 = \"Resources/Dataset1.csv\""
   ]
  },
  {
   "cell_type": "code",
   "execution_count": 3,
   "id": "da0ebbf0",
   "metadata": {},
   "outputs": [],
   "source": [
    "dataset1_df = pd.read_csv(dataset1, encoding=\"ISO-8859-1\", header=None)"
   ]
  },
  {
   "cell_type": "code",
   "execution_count": 4,
   "id": "1196cff2",
   "metadata": {},
   "outputs": [
    {
     "data": {
      "text/html": [
       "<div>\n",
       "<style scoped>\n",
       "    .dataframe tbody tr th:only-of-type {\n",
       "        vertical-align: middle;\n",
       "    }\n",
       "\n",
       "    .dataframe tbody tr th {\n",
       "        vertical-align: top;\n",
       "    }\n",
       "\n",
       "    .dataframe thead th {\n",
       "        text-align: right;\n",
       "    }\n",
       "</style>\n",
       "<table border=\"1\" class=\"dataframe\">\n",
       "  <thead>\n",
       "    <tr style=\"text-align: right;\">\n",
       "      <th></th>\n",
       "      <th>0</th>\n",
       "      <th>1</th>\n",
       "      <th>2</th>\n",
       "      <th>3</th>\n",
       "      <th>4</th>\n",
       "      <th>5</th>\n",
       "    </tr>\n",
       "  </thead>\n",
       "  <tbody>\n",
       "    <tr>\n",
       "      <th>0</th>\n",
       "      <td>ï»¿Ewe/V1</td>\n",
       "      <td>&lt;I&gt;/mA1</td>\n",
       "      <td>Ewe/V5</td>\n",
       "      <td>&lt;I&gt;/mA5</td>\n",
       "      <td>Ewe/V20</td>\n",
       "      <td>&lt;I&gt;/mA20</td>\n",
       "    </tr>\n",
       "    <tr>\n",
       "      <th>1</th>\n",
       "      <td>-0.460235029</td>\n",
       "      <td>-0.247163118</td>\n",
       "      <td>-0.460139513</td>\n",
       "      <td>-0.793835974</td>\n",
       "      <td>-0.460196823</td>\n",
       "      <td>-1.211096627</td>\n",
       "    </tr>\n",
       "    <tr>\n",
       "      <th>2</th>\n",
       "      <td>-0.460235029</td>\n",
       "      <td>-0.247019434</td>\n",
       "      <td>-0.460196823</td>\n",
       "      <td>-0.795327568</td>\n",
       "      <td>-0.460254133</td>\n",
       "      <td>-1.206461512</td>\n",
       "    </tr>\n",
       "    <tr>\n",
       "      <th>3</th>\n",
       "      <td>-0.460311413</td>\n",
       "      <td>-0.247091182</td>\n",
       "      <td>-0.460406929</td>\n",
       "      <td>-0.794714073</td>\n",
       "      <td>-0.460292339</td>\n",
       "      <td>-1.202671183</td>\n",
       "    </tr>\n",
       "    <tr>\n",
       "      <th>4</th>\n",
       "      <td>-0.460426033</td>\n",
       "      <td>-0.246475378</td>\n",
       "      <td>-0.460464239</td>\n",
       "      <td>-0.792635469</td>\n",
       "      <td>-0.460502416</td>\n",
       "      <td>-1.213611106</td>\n",
       "    </tr>\n",
       "  </tbody>\n",
       "</table>\n",
       "</div>"
      ],
      "text/plain": [
       "              0             1             2             3             4  \\\n",
       "0     ï»¿Ewe/V1       <I>/mA1        Ewe/V5       <I>/mA5       Ewe/V20   \n",
       "1  -0.460235029  -0.247163118  -0.460139513  -0.793835974  -0.460196823   \n",
       "2  -0.460235029  -0.247019434  -0.460196823  -0.795327568  -0.460254133   \n",
       "3  -0.460311413  -0.247091182  -0.460406929  -0.794714073  -0.460292339   \n",
       "4  -0.460426033  -0.246475378  -0.460464239  -0.792635469  -0.460502416   \n",
       "\n",
       "              5  \n",
       "0      <I>/mA20  \n",
       "1  -1.211096627  \n",
       "2  -1.206461512  \n",
       "3  -1.202671183  \n",
       "4  -1.213611106  "
      ]
     },
     "execution_count": 4,
     "metadata": {},
     "output_type": "execute_result"
    }
   ],
   "source": [
    "dataset1_df.head()"
   ]
  },
  {
   "cell_type": "code",
   "execution_count": 5,
   "id": "3aa5e6b5",
   "metadata": {},
   "outputs": [
    {
     "data": {
      "text/plain": [
       "Int64Index([0, 1, 2, 3, 4, 5], dtype='int64')"
      ]
     },
     "execution_count": 5,
     "metadata": {},
     "output_type": "execute_result"
    }
   ],
   "source": [
    "dataset1_df.columns"
   ]
  },
  {
   "cell_type": "code",
   "execution_count": 6,
   "id": "41ca90d4",
   "metadata": {},
   "outputs": [
    {
     "data": {
      "text/html": [
       "<div>\n",
       "<style scoped>\n",
       "    .dataframe tbody tr th:only-of-type {\n",
       "        vertical-align: middle;\n",
       "    }\n",
       "\n",
       "    .dataframe tbody tr th {\n",
       "        vertical-align: top;\n",
       "    }\n",
       "\n",
       "    .dataframe thead th {\n",
       "        text-align: right;\n",
       "    }\n",
       "</style>\n",
       "<table border=\"1\" class=\"dataframe\">\n",
       "  <thead>\n",
       "    <tr style=\"text-align: right;\">\n",
       "      <th></th>\n",
       "      <th>ï»¿Ewe/V1</th>\n",
       "      <th>&lt;I&gt;/mA1</th>\n",
       "      <th>Ewe/V5</th>\n",
       "      <th>&lt;I&gt;/mA5</th>\n",
       "      <th>Ewe/V20</th>\n",
       "      <th>&lt;I&gt;/mA20</th>\n",
       "    </tr>\n",
       "  </thead>\n",
       "  <tbody>\n",
       "    <tr>\n",
       "      <th>1</th>\n",
       "      <td>-0.460235029</td>\n",
       "      <td>-0.247163118</td>\n",
       "      <td>-0.460139513</td>\n",
       "      <td>-0.793835974</td>\n",
       "      <td>-0.460196823</td>\n",
       "      <td>-1.211096627</td>\n",
       "    </tr>\n",
       "    <tr>\n",
       "      <th>2</th>\n",
       "      <td>-0.460235029</td>\n",
       "      <td>-0.247019434</td>\n",
       "      <td>-0.460196823</td>\n",
       "      <td>-0.795327568</td>\n",
       "      <td>-0.460254133</td>\n",
       "      <td>-1.206461512</td>\n",
       "    </tr>\n",
       "    <tr>\n",
       "      <th>3</th>\n",
       "      <td>-0.460311413</td>\n",
       "      <td>-0.247091182</td>\n",
       "      <td>-0.460406929</td>\n",
       "      <td>-0.794714073</td>\n",
       "      <td>-0.460292339</td>\n",
       "      <td>-1.202671183</td>\n",
       "    </tr>\n",
       "    <tr>\n",
       "      <th>4</th>\n",
       "      <td>-0.460426033</td>\n",
       "      <td>-0.246475378</td>\n",
       "      <td>-0.460464239</td>\n",
       "      <td>-0.792635469</td>\n",
       "      <td>-0.460502416</td>\n",
       "      <td>-1.213611106</td>\n",
       "    </tr>\n",
       "    <tr>\n",
       "      <th>5</th>\n",
       "      <td>-0.460655242</td>\n",
       "      <td>-0.246579479</td>\n",
       "      <td>-0.460464239</td>\n",
       "      <td>-0.792194037</td>\n",
       "      <td>-0.460502416</td>\n",
       "      <td>-1.200391409</td>\n",
       "    </tr>\n",
       "  </tbody>\n",
       "</table>\n",
       "</div>"
      ],
      "text/plain": [
       "0     ï»¿Ewe/V1       <I>/mA1        Ewe/V5       <I>/mA5       Ewe/V20  \\\n",
       "1  -0.460235029  -0.247163118  -0.460139513  -0.793835974  -0.460196823   \n",
       "2  -0.460235029  -0.247019434  -0.460196823  -0.795327568  -0.460254133   \n",
       "3  -0.460311413  -0.247091182  -0.460406929  -0.794714073  -0.460292339   \n",
       "4  -0.460426033  -0.246475378  -0.460464239  -0.792635469  -0.460502416   \n",
       "5  -0.460655242  -0.246579479  -0.460464239  -0.792194037  -0.460502416   \n",
       "\n",
       "0      <I>/mA20  \n",
       "1  -1.211096627  \n",
       "2  -1.206461512  \n",
       "3  -1.202671183  \n",
       "4  -1.213611106  \n",
       "5  -1.200391409  "
      ]
     },
     "execution_count": 6,
     "metadata": {},
     "output_type": "execute_result"
    }
   ],
   "source": [
    "fix_header = dataset1_df.iloc[0]\n",
    "dataset1_df = dataset1_df[1:]\n",
    "dataset1_df.columns = fix_header\n",
    "dataset1_df.head()"
   ]
  },
  {
   "cell_type": "code",
   "execution_count": 7,
   "id": "23a68abe",
   "metadata": {},
   "outputs": [
    {
     "data": {
      "text/plain": [
       "Index(['ï»¿Ewe/V1', '<I>/mA1', 'Ewe/V5', '<I>/mA5', 'Ewe/V20', '<I>/mA20'], dtype='object', name=0)"
      ]
     },
     "execution_count": 7,
     "metadata": {},
     "output_type": "execute_result"
    }
   ],
   "source": [
    "dataset1_df.columns"
   ]
  },
  {
   "cell_type": "code",
   "execution_count": 8,
   "id": "96dc3c92",
   "metadata": {},
   "outputs": [
    {
     "data": {
      "text/html": [
       "<div>\n",
       "<style scoped>\n",
       "    .dataframe tbody tr th:only-of-type {\n",
       "        vertical-align: middle;\n",
       "    }\n",
       "\n",
       "    .dataframe tbody tr th {\n",
       "        vertical-align: top;\n",
       "    }\n",
       "\n",
       "    .dataframe thead th {\n",
       "        text-align: right;\n",
       "    }\n",
       "</style>\n",
       "<table border=\"1\" class=\"dataframe\">\n",
       "  <thead>\n",
       "    <tr style=\"text-align: right;\">\n",
       "      <th></th>\n",
       "      <th>Voltage 1</th>\n",
       "      <th>Current 1</th>\n",
       "      <th>Voltage 5</th>\n",
       "      <th>Current 5</th>\n",
       "      <th>Voltage 20</th>\n",
       "      <th>Current 20</th>\n",
       "    </tr>\n",
       "  </thead>\n",
       "  <tbody>\n",
       "    <tr>\n",
       "      <th>1</th>\n",
       "      <td>-0.460235029</td>\n",
       "      <td>-0.247163118</td>\n",
       "      <td>-0.460139513</td>\n",
       "      <td>-0.793835974</td>\n",
       "      <td>-0.460196823</td>\n",
       "      <td>-1.211096627</td>\n",
       "    </tr>\n",
       "    <tr>\n",
       "      <th>2</th>\n",
       "      <td>-0.460235029</td>\n",
       "      <td>-0.247019434</td>\n",
       "      <td>-0.460196823</td>\n",
       "      <td>-0.795327568</td>\n",
       "      <td>-0.460254133</td>\n",
       "      <td>-1.206461512</td>\n",
       "    </tr>\n",
       "    <tr>\n",
       "      <th>3</th>\n",
       "      <td>-0.460311413</td>\n",
       "      <td>-0.247091182</td>\n",
       "      <td>-0.460406929</td>\n",
       "      <td>-0.794714073</td>\n",
       "      <td>-0.460292339</td>\n",
       "      <td>-1.202671183</td>\n",
       "    </tr>\n",
       "    <tr>\n",
       "      <th>4</th>\n",
       "      <td>-0.460426033</td>\n",
       "      <td>-0.246475378</td>\n",
       "      <td>-0.460464239</td>\n",
       "      <td>-0.792635469</td>\n",
       "      <td>-0.460502416</td>\n",
       "      <td>-1.213611106</td>\n",
       "    </tr>\n",
       "    <tr>\n",
       "      <th>5</th>\n",
       "      <td>-0.460655242</td>\n",
       "      <td>-0.246579479</td>\n",
       "      <td>-0.460464239</td>\n",
       "      <td>-0.792194037</td>\n",
       "      <td>-0.460502416</td>\n",
       "      <td>-1.200391409</td>\n",
       "    </tr>\n",
       "  </tbody>\n",
       "</table>\n",
       "</div>"
      ],
      "text/plain": [
       "0     Voltage 1     Current 1     Voltage 5     Current 5    Voltage 20  \\\n",
       "1  -0.460235029  -0.247163118  -0.460139513  -0.793835974  -0.460196823   \n",
       "2  -0.460235029  -0.247019434  -0.460196823  -0.795327568  -0.460254133   \n",
       "3  -0.460311413  -0.247091182  -0.460406929  -0.794714073  -0.460292339   \n",
       "4  -0.460426033  -0.246475378  -0.460464239  -0.792635469  -0.460502416   \n",
       "5  -0.460655242  -0.246579479  -0.460464239  -0.792194037  -0.460502416   \n",
       "\n",
       "0    Current 20  \n",
       "1  -1.211096627  \n",
       "2  -1.206461512  \n",
       "3  -1.202671183  \n",
       "4  -1.213611106  \n",
       "5  -1.200391409  "
      ]
     },
     "execution_count": 8,
     "metadata": {},
     "output_type": "execute_result"
    }
   ],
   "source": [
    "renamed_df = dataset1_df.rename(columns={'ï»¿Ewe/V1':'Voltage 1', '<I>/mA1':'Current 1', 'Ewe/V5':'Voltage 5', '<I>/mA5':'Current 5', 'Ewe/V20':'Voltage 20', '<I>/mA20':'Current 20'})\n",
    "renamed_df.head()"
   ]
  },
  {
   "cell_type": "code",
   "execution_count": 9,
   "id": "f44c84a2",
   "metadata": {},
   "outputs": [
    {
     "data": {
      "text/plain": [
       "0\n",
       "Voltage 1     59992\n",
       "Current 1     59992\n",
       "Voltage 5     59975\n",
       "Current 5     59975\n",
       "Voltage 20    59904\n",
       "Current 20    59904\n",
       "dtype: int64"
      ]
     },
     "execution_count": 9,
     "metadata": {},
     "output_type": "execute_result"
    }
   ],
   "source": [
    "renamed_df.count()"
   ]
  },
  {
   "cell_type": "code",
   "execution_count": 10,
   "id": "7005094a",
   "metadata": {},
   "outputs": [
    {
     "data": {
      "text/plain": [
       "0\n",
       "Voltage 1     59904\n",
       "Current 1     59904\n",
       "Voltage 5     59904\n",
       "Current 5     59904\n",
       "Voltage 20    59904\n",
       "Current 20    59904\n",
       "dtype: int64"
      ]
     },
     "execution_count": 10,
     "metadata": {},
     "output_type": "execute_result"
    }
   ],
   "source": [
    "renamed_df = renamed_df.dropna(how='any')\n",
    "renamed_df.count()"
   ]
  },
  {
   "cell_type": "code",
   "execution_count": 11,
   "id": "6802908a",
   "metadata": {},
   "outputs": [],
   "source": [
    "#"
   ]
  },
  {
   "cell_type": "code",
   "execution_count": 12,
   "id": "92554068",
   "metadata": {},
   "outputs": [
    {
     "data": {
      "text/html": [
       "<div>\n",
       "<style scoped>\n",
       "    .dataframe tbody tr th:only-of-type {\n",
       "        vertical-align: middle;\n",
       "    }\n",
       "\n",
       "    .dataframe tbody tr th {\n",
       "        vertical-align: top;\n",
       "    }\n",
       "\n",
       "    .dataframe thead th {\n",
       "        text-align: right;\n",
       "    }\n",
       "</style>\n",
       "<table border=\"1\" class=\"dataframe\">\n",
       "  <thead>\n",
       "    <tr style=\"text-align: right;\">\n",
       "      <th></th>\n",
       "      <th>Voltage</th>\n",
       "      <th>Current</th>\n",
       "    </tr>\n",
       "  </thead>\n",
       "  <tbody>\n",
       "    <tr>\n",
       "      <th>1</th>\n",
       "      <td>-0.460235029</td>\n",
       "      <td>-0.247163118</td>\n",
       "    </tr>\n",
       "    <tr>\n",
       "      <th>2</th>\n",
       "      <td>-0.460235029</td>\n",
       "      <td>-0.247019434</td>\n",
       "    </tr>\n",
       "    <tr>\n",
       "      <th>3</th>\n",
       "      <td>-0.460311413</td>\n",
       "      <td>-0.247091182</td>\n",
       "    </tr>\n",
       "    <tr>\n",
       "      <th>4</th>\n",
       "      <td>-0.460426033</td>\n",
       "      <td>-0.246475378</td>\n",
       "    </tr>\n",
       "    <tr>\n",
       "      <th>5</th>\n",
       "      <td>-0.460655242</td>\n",
       "      <td>-0.246579479</td>\n",
       "    </tr>\n",
       "  </tbody>\n",
       "</table>\n",
       "</div>"
      ],
      "text/plain": [
       "0       Voltage       Current\n",
       "1  -0.460235029  -0.247163118\n",
       "2  -0.460235029  -0.247019434\n",
       "3  -0.460311413  -0.247091182\n",
       "4  -0.460426033  -0.246475378\n",
       "5  -0.460655242  -0.246579479"
      ]
     },
     "execution_count": 12,
     "metadata": {},
     "output_type": "execute_result"
    }
   ],
   "source": [
    "rate1_df = renamed_df.filter(['Voltage 1','Current 1'])\n",
    "rate1_df = rate1_df.rename(columns = {'Voltage 1':'Voltage','Current 1':'Current'})\n",
    "rate1_df.head()"
   ]
  },
  {
   "cell_type": "code",
   "execution_count": 13,
   "id": "14cf196e",
   "metadata": {},
   "outputs": [
    {
     "data": {
      "text/plain": [
       "<bound method DataFrame.info of 0           Voltage       Current\n",
       "1      -0.460235029  -0.247163118\n",
       "2      -0.460235029  -0.247019434\n",
       "3      -0.460311413  -0.247091182\n",
       "4      -0.460426033  -0.246475378\n",
       "5      -0.460655242  -0.246579479\n",
       "...             ...           ...\n",
       "59983  -0.102258928   0.114800642\n",
       "59984  -0.102086999   0.114961459\n",
       "59985  -0.101953268   0.114833285\n",
       "59986  -0.101838648   0.114723546\n",
       "59987  -0.101800442   0.114679925\n",
       "\n",
       "[59904 rows x 2 columns]>"
      ]
     },
     "execution_count": 13,
     "metadata": {},
     "output_type": "execute_result"
    }
   ],
   "source": [
    "rate1_df.info"
   ]
  },
  {
   "cell_type": "code",
   "execution_count": 14,
   "id": "2d4c6a0a",
   "metadata": {},
   "outputs": [
    {
     "name": "stdout",
     "output_type": "stream",
     "text": [
      "Min voltage at rate 1: -0.600882888\n",
      "Max voltage at rate 1: -0.100480236\n",
      "Max current at rate 1: -0.000105436\n",
      "Min current at rate 1: 7.41379E-05\n"
     ]
    }
   ],
   "source": [
    "min_valueV1 = rate1_df[\"Voltage\"]\n",
    "min_valueV1 = min_valueV1.max()\n",
    "print(\"Min voltage at rate 1:\", min_valueV1)\n",
    "\n",
    "max_valueV1 = rate1_df[\"Voltage\"]\n",
    "max_valueV1 = max_valueV1.min()\n",
    "print(\"Max voltage at rate 1:\", max_valueV1)\n",
    "\n",
    "max_valueC1 = rate1_df[\"Current\"]\n",
    "max_valueC1 = max_valueC1.min()\n",
    "print(\"Max current at rate 1:\", max_valueC1)\n",
    "\n",
    "min_valueC1 = rate1_df[\"Current\"]\n",
    "min_valueC1 = min_valueC1.max()\n",
    "print(\"Min current at rate 1:\", min_valueC1)"
   ]
  },
  {
   "cell_type": "code",
   "execution_count": 15,
   "id": "a6f54d2b",
   "metadata": {},
   "outputs": [
    {
     "data": {
      "text/html": [
       "<div>\n",
       "<style scoped>\n",
       "    .dataframe tbody tr th:only-of-type {\n",
       "        vertical-align: middle;\n",
       "    }\n",
       "\n",
       "    .dataframe tbody tr th {\n",
       "        vertical-align: top;\n",
       "    }\n",
       "\n",
       "    .dataframe thead th {\n",
       "        text-align: right;\n",
       "    }\n",
       "</style>\n",
       "<table border=\"1\" class=\"dataframe\">\n",
       "  <thead>\n",
       "    <tr style=\"text-align: right;\">\n",
       "      <th></th>\n",
       "      <th>Voltage</th>\n",
       "      <th>Current</th>\n",
       "    </tr>\n",
       "  </thead>\n",
       "  <tbody>\n",
       "    <tr>\n",
       "      <th>1</th>\n",
       "      <td>-0.460139513</td>\n",
       "      <td>-0.793835974</td>\n",
       "    </tr>\n",
       "    <tr>\n",
       "      <th>2</th>\n",
       "      <td>-0.460196823</td>\n",
       "      <td>-0.795327568</td>\n",
       "    </tr>\n",
       "    <tr>\n",
       "      <th>3</th>\n",
       "      <td>-0.460406929</td>\n",
       "      <td>-0.794714073</td>\n",
       "    </tr>\n",
       "    <tr>\n",
       "      <th>4</th>\n",
       "      <td>-0.460464239</td>\n",
       "      <td>-0.792635469</td>\n",
       "    </tr>\n",
       "    <tr>\n",
       "      <th>5</th>\n",
       "      <td>-0.460464239</td>\n",
       "      <td>-0.792194037</td>\n",
       "    </tr>\n",
       "  </tbody>\n",
       "</table>\n",
       "</div>"
      ],
      "text/plain": [
       "0       Voltage       Current\n",
       "1  -0.460139513  -0.793835974\n",
       "2  -0.460196823  -0.795327568\n",
       "3  -0.460406929  -0.794714073\n",
       "4  -0.460464239  -0.792635469\n",
       "5  -0.460464239  -0.792194037"
      ]
     },
     "execution_count": 15,
     "metadata": {},
     "output_type": "execute_result"
    }
   ],
   "source": [
    "rate5_df = renamed_df.filter(['Voltage 5','Current 5'])\n",
    "rate5_df = rate5_df.rename(columns = {'Voltage 5':'Voltage','Current 5':'Current'})\n",
    "rate5_df.head()"
   ]
  },
  {
   "cell_type": "code",
   "execution_count": 16,
   "id": "ef9e90da",
   "metadata": {},
   "outputs": [
    {
     "name": "stdout",
     "output_type": "stream",
     "text": [
      "Min voltage at rate 5: -0.600863755\n",
      "Max voltage at rate 5: -0.100461133\n",
      "Max current at rate 5: -0.000119839\n",
      "Min current at rate 5: 9.6884E-05\n"
     ]
    }
   ],
   "source": [
    "min_valueV5 = rate5_df[\"Voltage\"]\n",
    "min_valueV5 = min_valueV5.max()\n",
    "print(\"Min voltage at rate 5:\", min_valueV5)\n",
    "\n",
    "max_valueV5 = rate5_df[\"Voltage\"]\n",
    "max_valueV5 = max_valueV5.min()\n",
    "print(\"Max voltage at rate 5:\", max_valueV5)\n",
    "\n",
    "max_valueC5 = rate5_df[\"Current\"]\n",
    "max_valueC5 = max_valueC5.min()\n",
    "print(\"Max current at rate 5:\", max_valueC5)\n",
    "\n",
    "min_valueC5 = rate5_df[\"Current\"]\n",
    "min_valueC5 = min_valueC5.max()\n",
    "print(\"Min current at rate 5:\", min_valueC5)"
   ]
  },
  {
   "cell_type": "code",
   "execution_count": 17,
   "id": "070f8bcf",
   "metadata": {},
   "outputs": [
    {
     "data": {
      "text/html": [
       "<div>\n",
       "<style scoped>\n",
       "    .dataframe tbody tr th:only-of-type {\n",
       "        vertical-align: middle;\n",
       "    }\n",
       "\n",
       "    .dataframe tbody tr th {\n",
       "        vertical-align: top;\n",
       "    }\n",
       "\n",
       "    .dataframe thead th {\n",
       "        text-align: right;\n",
       "    }\n",
       "</style>\n",
       "<table border=\"1\" class=\"dataframe\">\n",
       "  <thead>\n",
       "    <tr style=\"text-align: right;\">\n",
       "      <th></th>\n",
       "      <th>Voltage</th>\n",
       "      <th>Current</th>\n",
       "    </tr>\n",
       "  </thead>\n",
       "  <tbody>\n",
       "    <tr>\n",
       "      <th>1</th>\n",
       "      <td>-0.460196823</td>\n",
       "      <td>-1.211096627</td>\n",
       "    </tr>\n",
       "    <tr>\n",
       "      <th>2</th>\n",
       "      <td>-0.460254133</td>\n",
       "      <td>-1.206461512</td>\n",
       "    </tr>\n",
       "    <tr>\n",
       "      <th>3</th>\n",
       "      <td>-0.460292339</td>\n",
       "      <td>-1.202671183</td>\n",
       "    </tr>\n",
       "    <tr>\n",
       "      <th>4</th>\n",
       "      <td>-0.460502416</td>\n",
       "      <td>-1.213611106</td>\n",
       "    </tr>\n",
       "    <tr>\n",
       "      <th>5</th>\n",
       "      <td>-0.460502416</td>\n",
       "      <td>-1.200391409</td>\n",
       "    </tr>\n",
       "  </tbody>\n",
       "</table>\n",
       "</div>"
      ],
      "text/plain": [
       "0       Voltage       Current\n",
       "1  -0.460196823  -1.211096627\n",
       "2  -0.460254133  -1.206461512\n",
       "3  -0.460292339  -1.202671183\n",
       "4  -0.460502416  -1.213611106\n",
       "5  -0.460502416  -1.200391409"
      ]
     },
     "execution_count": 17,
     "metadata": {},
     "output_type": "execute_result"
    }
   ],
   "source": [
    "rate20_df = renamed_df.filter(['Voltage 20','Current 20'])\n",
    "rate20_df = rate20_df.rename(columns = {'Voltage 20':'Voltage','Current 20':'Current'})\n",
    "rate20_df.head()"
   ]
  },
  {
   "cell_type": "code",
   "execution_count": 18,
   "id": "f31a0e57",
   "metadata": {},
   "outputs": [
    {
     "name": "stdout",
     "output_type": "stream",
     "text": [
      "Min voltage at rate 20: -0.600844681\n",
      "Max voltage at rate 20: -0.100442037\n",
      "Max current at rate 20: -0.0002068\n",
      "Min current at rate 20: 5.07382E-06\n"
     ]
    }
   ],
   "source": [
    "min_valueV20 = rate20_df[\"Voltage\"]\n",
    "min_valueV20 = min_valueV20.max()\n",
    "print(\"Min voltage at rate 20:\", min_valueV20)\n",
    "\n",
    "max_valueV20 = rate20_df[\"Voltage\"]\n",
    "max_valueV20 = max_valueV20.min()\n",
    "print(\"Max voltage at rate 20:\", max_valueV20)\n",
    "\n",
    "max_valueC20 = rate20_df[\"Current\"]\n",
    "max_valueC20 = max_valueC20.min()\n",
    "print(\"Max current at rate 20:\", max_valueC20)\n",
    "\n",
    "min_valueC20 = rate20_df[\"Current\"]\n",
    "min_valueC20 = min_valueC20.max()\n",
    "print(\"Min current at rate 20:\", min_valueC20)\n"
   ]
  },
  {
   "cell_type": "code",
   "execution_count": null,
   "id": "ee45d1b7",
   "metadata": {},
   "outputs": [],
   "source": [
    "\n",
    "\n",
    "\n",
    "\n",
    "\n",
    "\n",
    "\n",
    "\n",
    "\n",
    "\n"
   ]
  },
  {
   "cell_type": "code",
   "execution_count": null,
   "id": "d621a2de",
   "metadata": {},
   "outputs": [],
   "source": [
    "\n"
   ]
  },
  {
   "cell_type": "code",
   "execution_count": null,
   "id": "b398edec",
   "metadata": {},
   "outputs": [],
   "source": []
  },
  {
   "cell_type": "code",
   "execution_count": null,
   "id": "b8eeca96",
   "metadata": {},
   "outputs": [],
   "source": []
  }
 ],
 "metadata": {
  "kernelspec": {
   "display_name": "Python 3 (ipykernel)",
   "language": "python",
   "name": "python3"
  },
  "language_info": {
   "codemirror_mode": {
    "name": "ipython",
    "version": 3
   },
   "file_extension": ".py",
   "mimetype": "text/x-python",
   "name": "python",
   "nbconvert_exporter": "python",
   "pygments_lexer": "ipython3",
   "version": "3.9.7"
  }
 },
 "nbformat": 4,
 "nbformat_minor": 5
}
