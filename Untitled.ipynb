{
 "cells": [
  {
   "cell_type": "code",
   "execution_count": 1,
   "id": "77dc4359",
   "metadata": {},
   "outputs": [],
   "source": [
    "# Dependencies\n",
    "import pandas as pd\n",
    "import matplotlib.pyplot as plt\n",
    "import numpy as np"
   ]
  },
  {
   "cell_type": "code",
   "execution_count": 2,
   "id": "cad9eb98",
   "metadata": {},
   "outputs": [],
   "source": [
    "#Filepath as variable\n",
    "\n",
    "dataset1 = \"Resources/Dataset1.csv\""
   ]
  },
  {
   "cell_type": "code",
   "execution_count": 3,
   "id": "da0ebbf0",
   "metadata": {},
   "outputs": [],
   "source": [
    "dataset1_df = pd.read_csv(dataset1, encoding=\"ISO-8859-1\", header=None)"
   ]
  },
  {
   "cell_type": "code",
   "execution_count": 4,
   "id": "1196cff2",
   "metadata": {},
   "outputs": [
    {
     "data": {
      "text/html": [
       "<div>\n",
       "<style scoped>\n",
       "    .dataframe tbody tr th:only-of-type {\n",
       "        vertical-align: middle;\n",
       "    }\n",
       "\n",
       "    .dataframe tbody tr th {\n",
       "        vertical-align: top;\n",
       "    }\n",
       "\n",
       "    .dataframe thead th {\n",
       "        text-align: right;\n",
       "    }\n",
       "</style>\n",
       "<table border=\"1\" class=\"dataframe\">\n",
       "  <thead>\n",
       "    <tr style=\"text-align: right;\">\n",
       "      <th></th>\n",
       "      <th>0</th>\n",
       "      <th>1</th>\n",
       "      <th>2</th>\n",
       "      <th>3</th>\n",
       "      <th>4</th>\n",
       "      <th>5</th>\n",
       "    </tr>\n",
       "  </thead>\n",
       "  <tbody>\n",
       "    <tr>\n",
       "      <th>0</th>\n",
       "      <td>ï»¿Ewe/V1</td>\n",
       "      <td>&lt;I&gt;/mA1</td>\n",
       "      <td>Ewe/V5</td>\n",
       "      <td>&lt;I&gt;/mA5</td>\n",
       "      <td>Ewe/V20</td>\n",
       "      <td>&lt;I&gt;/mA20</td>\n",
       "    </tr>\n",
       "    <tr>\n",
       "      <th>1</th>\n",
       "      <td>-0.460235029</td>\n",
       "      <td>-0.247163118</td>\n",
       "      <td>-0.460139513</td>\n",
       "      <td>-0.793835974</td>\n",
       "      <td>-0.460196823</td>\n",
       "      <td>-1.211096627</td>\n",
       "    </tr>\n",
       "    <tr>\n",
       "      <th>2</th>\n",
       "      <td>-0.460235029</td>\n",
       "      <td>-0.247019434</td>\n",
       "      <td>-0.460196823</td>\n",
       "      <td>-0.795327568</td>\n",
       "      <td>-0.460254133</td>\n",
       "      <td>-1.206461512</td>\n",
       "    </tr>\n",
       "    <tr>\n",
       "      <th>3</th>\n",
       "      <td>-0.460311413</td>\n",
       "      <td>-0.247091182</td>\n",
       "      <td>-0.460406929</td>\n",
       "      <td>-0.794714073</td>\n",
       "      <td>-0.460292339</td>\n",
       "      <td>-1.202671183</td>\n",
       "    </tr>\n",
       "    <tr>\n",
       "      <th>4</th>\n",
       "      <td>-0.460426033</td>\n",
       "      <td>-0.246475378</td>\n",
       "      <td>-0.460464239</td>\n",
       "      <td>-0.792635469</td>\n",
       "      <td>-0.460502416</td>\n",
       "      <td>-1.213611106</td>\n",
       "    </tr>\n",
       "  </tbody>\n",
       "</table>\n",
       "</div>"
      ],
      "text/plain": [
       "              0             1             2             3             4  \\\n",
       "0     ï»¿Ewe/V1       <I>/mA1        Ewe/V5       <I>/mA5       Ewe/V20   \n",
       "1  -0.460235029  -0.247163118  -0.460139513  -0.793835974  -0.460196823   \n",
       "2  -0.460235029  -0.247019434  -0.460196823  -0.795327568  -0.460254133   \n",
       "3  -0.460311413  -0.247091182  -0.460406929  -0.794714073  -0.460292339   \n",
       "4  -0.460426033  -0.246475378  -0.460464239  -0.792635469  -0.460502416   \n",
       "\n",
       "              5  \n",
       "0      <I>/mA20  \n",
       "1  -1.211096627  \n",
       "2  -1.206461512  \n",
       "3  -1.202671183  \n",
       "4  -1.213611106  "
      ]
     },
     "execution_count": 4,
     "metadata": {},
     "output_type": "execute_result"
    }
   ],
   "source": [
    "dataset1_df.head()"
   ]
  },
  {
   "cell_type": "code",
   "execution_count": 5,
   "id": "3aa5e6b5",
   "metadata": {},
   "outputs": [
    {
     "data": {
      "text/plain": [
       "Int64Index([0, 1, 2, 3, 4, 5], dtype='int64')"
      ]
     },
     "execution_count": 5,
     "metadata": {},
     "output_type": "execute_result"
    }
   ],
   "source": [
    "dataset1_df.columns"
   ]
  },
  {
   "cell_type": "code",
   "execution_count": 6,
   "id": "41ca90d4",
   "metadata": {},
   "outputs": [
    {
     "data": {
      "text/html": [
       "<div>\n",
       "<style scoped>\n",
       "    .dataframe tbody tr th:only-of-type {\n",
       "        vertical-align: middle;\n",
       "    }\n",
       "\n",
       "    .dataframe tbody tr th {\n",
       "        vertical-align: top;\n",
       "    }\n",
       "\n",
       "    .dataframe thead th {\n",
       "        text-align: right;\n",
       "    }\n",
       "</style>\n",
       "<table border=\"1\" class=\"dataframe\">\n",
       "  <thead>\n",
       "    <tr style=\"text-align: right;\">\n",
       "      <th></th>\n",
       "      <th>ï»¿Ewe/V1</th>\n",
       "      <th>&lt;I&gt;/mA1</th>\n",
       "      <th>Ewe/V5</th>\n",
       "      <th>&lt;I&gt;/mA5</th>\n",
       "      <th>Ewe/V20</th>\n",
       "      <th>&lt;I&gt;/mA20</th>\n",
       "    </tr>\n",
       "  </thead>\n",
       "  <tbody>\n",
       "    <tr>\n",
       "      <th>1</th>\n",
       "      <td>-0.460235029</td>\n",
       "      <td>-0.247163118</td>\n",
       "      <td>-0.460139513</td>\n",
       "      <td>-0.793835974</td>\n",
       "      <td>-0.460196823</td>\n",
       "      <td>-1.211096627</td>\n",
       "    </tr>\n",
       "    <tr>\n",
       "      <th>2</th>\n",
       "      <td>-0.460235029</td>\n",
       "      <td>-0.247019434</td>\n",
       "      <td>-0.460196823</td>\n",
       "      <td>-0.795327568</td>\n",
       "      <td>-0.460254133</td>\n",
       "      <td>-1.206461512</td>\n",
       "    </tr>\n",
       "    <tr>\n",
       "      <th>3</th>\n",
       "      <td>-0.460311413</td>\n",
       "      <td>-0.247091182</td>\n",
       "      <td>-0.460406929</td>\n",
       "      <td>-0.794714073</td>\n",
       "      <td>-0.460292339</td>\n",
       "      <td>-1.202671183</td>\n",
       "    </tr>\n",
       "    <tr>\n",
       "      <th>4</th>\n",
       "      <td>-0.460426033</td>\n",
       "      <td>-0.246475378</td>\n",
       "      <td>-0.460464239</td>\n",
       "      <td>-0.792635469</td>\n",
       "      <td>-0.460502416</td>\n",
       "      <td>-1.213611106</td>\n",
       "    </tr>\n",
       "    <tr>\n",
       "      <th>5</th>\n",
       "      <td>-0.460655242</td>\n",
       "      <td>-0.246579479</td>\n",
       "      <td>-0.460464239</td>\n",
       "      <td>-0.792194037</td>\n",
       "      <td>-0.460502416</td>\n",
       "      <td>-1.200391409</td>\n",
       "    </tr>\n",
       "  </tbody>\n",
       "</table>\n",
       "</div>"
      ],
      "text/plain": [
       "0     ï»¿Ewe/V1       <I>/mA1        Ewe/V5       <I>/mA5       Ewe/V20  \\\n",
       "1  -0.460235029  -0.247163118  -0.460139513  -0.793835974  -0.460196823   \n",
       "2  -0.460235029  -0.247019434  -0.460196823  -0.795327568  -0.460254133   \n",
       "3  -0.460311413  -0.247091182  -0.460406929  -0.794714073  -0.460292339   \n",
       "4  -0.460426033  -0.246475378  -0.460464239  -0.792635469  -0.460502416   \n",
       "5  -0.460655242  -0.246579479  -0.460464239  -0.792194037  -0.460502416   \n",
       "\n",
       "0      <I>/mA20  \n",
       "1  -1.211096627  \n",
       "2  -1.206461512  \n",
       "3  -1.202671183  \n",
       "4  -1.213611106  \n",
       "5  -1.200391409  "
      ]
     },
     "execution_count": 6,
     "metadata": {},
     "output_type": "execute_result"
    }
   ],
   "source": [
    "fix_header = dataset1_df.iloc[0]\n",
    "dataset1_df = dataset1_df[1:]\n",
    "dataset1_df.columns = fix_header\n",
    "dataset1_df.head()"
   ]
  },
  {
   "cell_type": "code",
   "execution_count": 7,
   "id": "23a68abe",
   "metadata": {},
   "outputs": [
    {
     "data": {
      "text/plain": [
       "Index(['ï»¿Ewe/V1', '<I>/mA1', 'Ewe/V5', '<I>/mA5', 'Ewe/V20', '<I>/mA20'], dtype='object', name=0)"
      ]
     },
     "execution_count": 7,
     "metadata": {},
     "output_type": "execute_result"
    }
   ],
   "source": [
    "dataset1_df.columns"
   ]
  },
  {
   "cell_type": "code",
   "execution_count": 8,
   "id": "96dc3c92",
   "metadata": {},
   "outputs": [
    {
     "data": {
      "text/html": [
       "<div>\n",
       "<style scoped>\n",
       "    .dataframe tbody tr th:only-of-type {\n",
       "        vertical-align: middle;\n",
       "    }\n",
       "\n",
       "    .dataframe tbody tr th {\n",
       "        vertical-align: top;\n",
       "    }\n",
       "\n",
       "    .dataframe thead th {\n",
       "        text-align: right;\n",
       "    }\n",
       "</style>\n",
       "<table border=\"1\" class=\"dataframe\">\n",
       "  <thead>\n",
       "    <tr style=\"text-align: right;\">\n",
       "      <th></th>\n",
       "      <th>Voltage 1</th>\n",
       "      <th>Current 1</th>\n",
       "      <th>Voltage 5</th>\n",
       "      <th>Current 5</th>\n",
       "      <th>Voltage 20</th>\n",
       "      <th>Current 20</th>\n",
       "    </tr>\n",
       "  </thead>\n",
       "  <tbody>\n",
       "    <tr>\n",
       "      <th>1</th>\n",
       "      <td>-0.460235029</td>\n",
       "      <td>-0.247163118</td>\n",
       "      <td>-0.460139513</td>\n",
       "      <td>-0.793835974</td>\n",
       "      <td>-0.460196823</td>\n",
       "      <td>-1.211096627</td>\n",
       "    </tr>\n",
       "    <tr>\n",
       "      <th>2</th>\n",
       "      <td>-0.460235029</td>\n",
       "      <td>-0.247019434</td>\n",
       "      <td>-0.460196823</td>\n",
       "      <td>-0.795327568</td>\n",
       "      <td>-0.460254133</td>\n",
       "      <td>-1.206461512</td>\n",
       "    </tr>\n",
       "    <tr>\n",
       "      <th>3</th>\n",
       "      <td>-0.460311413</td>\n",
       "      <td>-0.247091182</td>\n",
       "      <td>-0.460406929</td>\n",
       "      <td>-0.794714073</td>\n",
       "      <td>-0.460292339</td>\n",
       "      <td>-1.202671183</td>\n",
       "    </tr>\n",
       "    <tr>\n",
       "      <th>4</th>\n",
       "      <td>-0.460426033</td>\n",
       "      <td>-0.246475378</td>\n",
       "      <td>-0.460464239</td>\n",
       "      <td>-0.792635469</td>\n",
       "      <td>-0.460502416</td>\n",
       "      <td>-1.213611106</td>\n",
       "    </tr>\n",
       "    <tr>\n",
       "      <th>5</th>\n",
       "      <td>-0.460655242</td>\n",
       "      <td>-0.246579479</td>\n",
       "      <td>-0.460464239</td>\n",
       "      <td>-0.792194037</td>\n",
       "      <td>-0.460502416</td>\n",
       "      <td>-1.200391409</td>\n",
       "    </tr>\n",
       "  </tbody>\n",
       "</table>\n",
       "</div>"
      ],
      "text/plain": [
       "0     Voltage 1     Current 1     Voltage 5     Current 5    Voltage 20  \\\n",
       "1  -0.460235029  -0.247163118  -0.460139513  -0.793835974  -0.460196823   \n",
       "2  -0.460235029  -0.247019434  -0.460196823  -0.795327568  -0.460254133   \n",
       "3  -0.460311413  -0.247091182  -0.460406929  -0.794714073  -0.460292339   \n",
       "4  -0.460426033  -0.246475378  -0.460464239  -0.792635469  -0.460502416   \n",
       "5  -0.460655242  -0.246579479  -0.460464239  -0.792194037  -0.460502416   \n",
       "\n",
       "0    Current 20  \n",
       "1  -1.211096627  \n",
       "2  -1.206461512  \n",
       "3  -1.202671183  \n",
       "4  -1.213611106  \n",
       "5  -1.200391409  "
      ]
     },
     "execution_count": 8,
     "metadata": {},
     "output_type": "execute_result"
    }
   ],
   "source": [
    "renamed_df = dataset1_df.rename(columns={'ï»¿Ewe/V1':'Voltage 1', '<I>/mA1':'Current 1', 'Ewe/V5':'Voltage 5', '<I>/mA5':'Current 5', 'Ewe/V20':'Voltage 20', '<I>/mA20':'Current 20'})\n",
    "renamed_df.head()"
   ]
  },
  {
   "cell_type": "code",
   "execution_count": 9,
   "id": "f44c84a2",
   "metadata": {},
   "outputs": [
    {
     "data": {
      "text/plain": [
       "0\n",
       "Voltage 1     59992\n",
       "Current 1     59992\n",
       "Voltage 5     59975\n",
       "Current 5     59975\n",
       "Voltage 20    59904\n",
       "Current 20    59904\n",
       "dtype: int64"
      ]
     },
     "execution_count": 9,
     "metadata": {},
     "output_type": "execute_result"
    }
   ],
   "source": [
    "renamed_df.count()"
   ]
  },
  {
   "cell_type": "code",
   "execution_count": 10,
   "id": "3c7396de",
   "metadata": {},
   "outputs": [
    {
     "data": {
      "text/plain": [
       "0\n",
       "Voltage 1     59904\n",
       "Current 1     59904\n",
       "Voltage 5     59904\n",
       "Current 5     59904\n",
       "Voltage 20    59904\n",
       "Current 20    59904\n",
       "dtype: int64"
      ]
     },
     "execution_count": 10,
     "metadata": {},
     "output_type": "execute_result"
    }
   ],
   "source": [
    "renamed_df = renamed_df.dropna(how='any')\n",
    "renamed_df.count()"
   ]
  },
  {
   "cell_type": "code",
   "execution_count": 11,
   "id": "f31a0e57",
   "metadata": {},
   "outputs": [
    {
     "name": "stdout",
     "output_type": "stream",
     "text": [
      "Min voltage at rate 1: -0.600882888\n",
      "Min voltage at rate 5: -0.600863755\n",
      "Min voltage at rate 20: -0.600844681\n",
      "Max voltage at rate 1: -0.100480236\n",
      "Max voltage at rate 5: -0.100461133\n",
      "Max voltage at rate 20: -0.100442037\n"
     ]
    }
   ],
   "source": [
    "min_valueV1 = renamed_df[\"Voltage 1\"]\n",
    "min_valueV1 = min_valueV1.max()\n",
    "print(\"Min voltage at rate 1:\", min_valueV1)\n",
    "\n",
    "min_valueV5 = renamed_df[\"Voltage 5\"]\n",
    "min_valueV5 = min_valueV5.max()\n",
    "print(\"Min voltage at rate 5:\", min_valueV5)\n",
    "\n",
    "min_valueV20 = renamed_df[\"Voltage 20\"]\n",
    "min_valueV20 = min_valueV20.max()\n",
    "print(\"Min voltage at rate 20:\", min_valueV20)\n",
    "\n",
    "max_valueV1 = renamed_df[\"Voltage 1\"]\n",
    "max_valueV1 = max_valueV1.min()\n",
    "print(\"Max voltage at rate 1:\", max_valueV1)\n",
    "\n",
    "max_valueV5 = renamed_df[\"Voltage 5\"]\n",
    "max_valueV5 = max_valueV5.min()\n",
    "print(\"Max voltage at rate 5:\", max_valueV5)\n",
    "\n",
    "max_valueV20 = renamed_df[\"Voltage 20\"]\n",
    "max_valueV20 = max_valueV20.min()\n",
    "print(\"Max voltage at rate 20:\", max_valueV20)\n"
   ]
  },
  {
   "cell_type": "code",
   "execution_count": 12,
   "id": "7ef0f8c1",
   "metadata": {},
   "outputs": [
    {
     "name": "stdout",
     "output_type": "stream",
     "text": [
      "Max current at rate 1: -0.000105436\n",
      "Max current at rate 5: -0.000119839\n",
      "Max current at rate 20: -0.0002068\n",
      "Min current at rate 1: 7.41379E-05\n",
      "Min current at rate 5: 9.6884E-05\n",
      "Min current at rate 20: 5.07382E-06\n"
     ]
    }
   ],
   "source": [
    "max_valueC1 = renamed_df[\"Current 1\"]\n",
    "max_valueC1 = max_valueC1.min()\n",
    "print(\"Max current at rate 1:\", max_valueC1)\n",
    "\n",
    "max_valueC5 = renamed_df[\"Current 5\"]\n",
    "max_valueC5 = max_valueC5.min()\n",
    "print(\"Max current at rate 5:\", max_valueC5)\n",
    "\n",
    "max_valueC20 = renamed_df[\"Current 20\"]\n",
    "max_valueC20 = max_valueC20.min()\n",
    "print(\"Max current at rate 20:\", max_valueC20)\n",
    "\n",
    "min_valueC1 = renamed_df[\"Current 1\"]\n",
    "min_valueC1 = min_valueC1.max()\n",
    "print(\"Min current at rate 1:\", min_valueC1)\n",
    "\n",
    "min_valueC5 = renamed_df[\"Current 5\"]\n",
    "min_valueC5 = min_valueC5.max()\n",
    "print(\"Min current at rate 5:\", min_valueC5)\n",
    "\n",
    "min_valueC20 = renamed_df[\"Current 20\"]\n",
    "min_valueC20 = min_valueC20.max()\n",
    "print(\"Min current at rate 20:\", min_valueC20)"
   ]
  },
  {
   "cell_type": "code",
   "execution_count": 14,
   "id": "2e54b350",
   "metadata": {},
   "outputs": [
    {
     "data": {
      "text/plain": [
       "<matplotlib.collections.PathCollection at 0x7fca0822b370>"
      ]
     },
     "execution_count": 14,
     "metadata": {},
     "output_type": "execute_result"
    },
    {
     "data": {
      "image/png": "[encoded data removed]",
      "text/plain": [
       "<Figure size 432x288 with 1 Axes>"
      ]
     },
     "metadata": {
      "needs_background": "light"
     },
     "output_type": "display_data"
    }
   ],
   "source": [
    "plt.scatter()\n",
    "\n"
   ]
  },
  {
   "cell_type": "code",
   "execution_count": null,
   "id": "bd8afa18",
   "metadata": {},
   "outputs": [],
   "source": []
  },
  {
   "cell_type": "code",
   "execution_count": null,
   "id": "3de18887",
   "metadata": {},
   "outputs": [],
   "source": []
  }
 ],
 "metadata": {
  "kernelspec": {
   "display_name": "Python 3 (ipykernel)",
   "language": "python",
   "name": "python3"
  },
  "language_info": {
   "codemirror_mode": {
    "name": "ipython",
    "version": 3
   },
   "file_extension": ".py",
   "mimetype": "text/x-python",
   "name": "python",
   "nbconvert_exporter": "python",
   "pygments_lexer": "ipython3",
   "version": "3.9.7"
  }
 },
 "nbformat": 4,
 "nbformat_minor": 5
}
